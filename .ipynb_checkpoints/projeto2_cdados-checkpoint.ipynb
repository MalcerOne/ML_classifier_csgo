{
 "cells": [
  {
   "cell_type": "markdown",
   "metadata": {},
   "source": [
    "Projeto 2 de Ciência dos Dados"
   ]
  },
  {
   "cell_type": "code",
   "execution_count": 2,
   "metadata": {},
   "outputs": [],
   "source": [
    "#Carregando as bibliotecas\n",
    "%matplotlib inline\n",
    "import pandas as pd\n",
    "import matplotlib.pyplot as plt\n",
    "import numpy as np\n",
    "import os\n",
    "import re"
   ]
  },
  {
   "cell_type": "code",
   "execution_count": 3,
   "metadata": {},
   "outputs": [
    {
     "name": "stdout",
     "output_type": "stream",
     "text": [
      "Esperamos trabalhar no diretório\n",
      "C:\\Users\\rafae\\Desktop\\cdados_p2\\cdados_projeto2\n"
     ]
    }
   ],
   "source": [
    "print('Esperamos trabalhar no diretório')\n",
    "print(os.getcwd())"
   ]
  },
  {
   "cell_type": "code",
   "execution_count": 54,
   "metadata": {},
   "outputs": [],
   "source": [
    "#Lendo o dataset\n",
    "data = pd.read_csv(\"C:/Users/rafae/Desktop/cdados_p2/cdados_projeto2/matches_info.csv\")\n",
    "\n",
    "#Apagando colunas desnecessárias\n",
    "del data[\"Unnamed: 0\"]\n",
    "del data[\"date_match\"]\n",
    "del data[\"event_name\"]\n",
    "\n",
    "#Criando um novo dataframe somente com as partidas, mapas e times, excluindo as estatisticas de cada jogador, pois\n",
    "#existem alguns jogadores que atualmente não estão mais participando do cenário competitivo do jogo.\n",
    "data_novo = data.iloc[:, 0:23]\n",
    "\n",
    "#Esta função faz com que todas as colunas sejam expostas pelo DataFrame.\n",
    "pd.set_option('display.max_columns', None)\n",
    "pd.set_option('display.max_colwidth', -1)\n",
    "\n",
    "#Função que conta a quantidade de aparições dos mapas, retornando um dicionário com cada um deles e suas frequencias\n",
    "def contagem(lista):\n",
    "    dicionario_contagem = {}\n",
    "    for i in lista:\n",
    "        dicionario_contagem[i] = lista.count(i)\n",
    "        \n",
    "    return dicionario_contagem"
   ]
  },
  {
   "cell_type": "code",
   "execution_count": 69,
   "metadata": {},
   "outputs": [],
   "source": [
    "#Criando uma lista que contenha o nome de todos os times\n",
    "lista_times1 = list(data_novo.team1)\n",
    "lista_times2 = list(data_novo.team2)\n",
    "lista_times = list(lista_times1+lista_times2)\n",
    "\n",
    "#Criando uma lista que contenha o nome de todos os mapas\n",
    "lista_mapas = []\n",
    "lista_frq_mapas = []\n",
    "lista_crua = list(data_novo.map1_played) + list(data_novo.map2_played) + list(data_novo.map3_played)\n",
    "\n",
    "for i in lista_crua:\n",
    "    if i in lista_mapas or i == \"NotPlayed\":\n",
    "        pass\n",
    "    else:\n",
    "        lista_mapas.append(i)\n",
    "        \n",
    "#Criando uma lista para medir a frequencia de jogos nos mapas\n",
    "for i in lista_crua:\n",
    "    if i == \"NotPlayed\":\n",
    "        pass\n",
    "    else:\n",
    "        lista_frq_mapas.append(i)"
   ]
  },
  {
   "cell_type": "code",
   "execution_count": 95,
   "metadata": {},
   "outputs": [],
   "source": [
    "#Criando um dicionário que mostra a frequencia que cada mapa é jogado\n",
    "soma_mapas = sum(contagem(lista_frq_mapas).values())\n",
    "dicionario_frequencias_mapas = {}\n",
    "for k, v in contagem(lista_frq_mapas).items():\n",
    "    frq = v*(100) / soma_mapas\n",
    "    dicionario_frequencias_mapas[k] = frq\n",
    "\n",
    "#Criando um dicionário que mostra a frequencia dos times em relação as partidas jogadas\n",
    "soma_times = sum(contagem(lista_times).values())\n",
    "dicionario_frequencias_times = {}\n",
    "for k, v in contagem(lista_times).items():\n",
    "    frq = v*(100) / soma_times\n",
    "    dicionario_frequencias_times[k] = frq\n",
    "\n",
    "#Código que cria um dicionário que mostra a porcentagem de vitória dos times a partir da soma de todas as partidas computadas.\n",
    "lista_mapa2 = []\n",
    "lista_mapa3 = []\n",
    "\n",
    "for i in data_novo.team_winner_map2:\n",
    "    if i == \"NotPlayed\":\n",
    "        pass\n",
    "    else:\n",
    "        lista_mapa2.append(i)\n",
    "\n",
    "for i in data_novo.team_winner_map3:\n",
    "    if i == \"NotPlayed\":\n",
    "        pass\n",
    "    else:\n",
    "        lista_mapa3.append(i)\n",
    "\n",
    "vencedores = list(data_novo.team_winner_map1) + lista_mapa2 + lista_mapa3\n",
    "soma_vencedores = sum(contagem(vencedores).values())\n",
    "dicionario_frequencias_vencedores = {}\n",
    "for k, v in contagem(vencedores).items():\n",
    "    frq = v*(100) / soma_vencedores\n",
    "    dicionario_frequencias_vencedores[k] = frq\n",
    "    \n",
    "#Organiza o dicionário em ordem decrescente, facilitando sua visualização\n",
    "dicionario_vencedores_sorted = dict(sorted(dicionario_frequencias_vencedores.items(), key=lambda x: x[1], reverse=True))"
   ]
  }
 ],
 "metadata": {
  "kernelspec": {
   "display_name": "Python 3",
   "language": "python",
   "name": "python3"
  },
  "language_info": {
   "codemirror_mode": {
    "name": "ipython",
    "version": 3
   },
   "file_extension": ".py",
   "mimetype": "text/x-python",
   "name": "python",
   "nbconvert_exporter": "python",
   "pygments_lexer": "ipython3",
   "version": "3.7.3"
  }
 },
 "nbformat": 4,
 "nbformat_minor": 2
}
