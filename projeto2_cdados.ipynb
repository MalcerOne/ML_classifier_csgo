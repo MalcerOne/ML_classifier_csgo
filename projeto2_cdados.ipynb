{
 "cells": [
  {
   "cell_type": "markdown",
   "metadata": {},
   "source": [
    "Projeto 2 de Ciência dos Dados"
   ]
  },
  {
   "cell_type": "code",
   "execution_count": 1,
   "metadata": {},
   "outputs": [],
   "source": [
    "#Carregando as bibliotecas\n",
    "%matplotlib inline\n",
    "import pandas as pd\n",
    "import matplotlib.pyplot as plt\n",
    "import numpy as np\n",
    "import os\n",
    "import re"
   ]
  },
  {
   "cell_type": "code",
   "execution_count": 2,
   "metadata": {},
   "outputs": [
    {
     "name": "stdout",
     "output_type": "stream",
     "text": [
      "Esperamos trabalhar no diretório\n",
      "C:\\Users\\rafae\\Desktop\\cdados_p2\\cdados_projeto2\n"
     ]
    }
   ],
   "source": [
    "print('Esperamos trabalhar no diretório')\n",
    "print(os.getcwd())"
   ]
  },
  {
   "cell_type": "code",
   "execution_count": 3,
   "metadata": {},
   "outputs": [],
   "source": [
    "#Lendo o dataset\n",
    "data = pd.read_csv(\"C:/Users/rafae/Desktop/cdados_p2/cdados_projeto2/matches_info.csv\")\n",
    "\n",
    "#Apagando colunas desnecessárias\n",
    "del data[\"Unnamed: 0\"]\n",
    "del data[\"date_match\"]\n",
    "del data[\"event_name\"]\n",
    "\n",
    "#Criando um novo dataframe somente com as partidas, mapas e times, excluindo as estatisticas de cada jogador, pois\n",
    "#existem alguns jogadores que atualmente não estão mais participando do cenário competitivo do jogo.\n",
    "data_novo = data.iloc[:, 0:23]\n",
    "\n",
    "#Esta função faz com que todas as colunas sejam expostas pelo DataFrame.\n",
    "pd.set_option('display.max_columns', None)\n",
    "pd.set_option('display.max_colwidth', -1)\n",
    "\n",
    "#Função que conta a quantidade de aparições dos mapas, retornando um dicionário com cada um deles e suas frequencias\n",
    "def contagem(lista):\n",
    "    dicionario_contagem = {}\n",
    "    for i in lista:\n",
    "        dicionario_contagem[i] = lista.count(i)\n",
    "        \n",
    "    return dicionario_contagem"
   ]
  },
  {
   "cell_type": "code",
   "execution_count": 68,
   "metadata": {},
   "outputs": [],
   "source": [
    "#Criando uma lista que contenha o nome de todos os times\n",
    "lista_times1 = list(data_novo.team1)\n",
    "lista_times2 = list(data_novo.team2)\n",
    "lista_times = lista_times1+lista_times2\n",
    "\n",
    "#Criando uma lista que contenha o nome de todos os mapas\n",
    "lista_mapas = []\n",
    "lista_frq_mapas = []\n",
    "lista_crua = list(data_novo.map1_played) + list(data_novo.map2_played) + list(data_novo.map3_played)\n",
    "\n",
    "for i in lista_crua:\n",
    "    if i in lista_mapas or i == \"NotPlayed\":\n",
    "        pass\n",
    "    else:\n",
    "        lista_mapas.append(i)\n",
    "        \n",
    "#Criando uma lista para medir a frequencia de jogos nos mapas\n",
    "for i in lista_crua:\n",
    "    if i == \"NotPlayed\":\n",
    "        pass\n",
    "    else:\n",
    "        lista_frq_mapas.append(i)"
   ]
  },
  {
   "cell_type": "code",
   "execution_count": 76,
   "metadata": {},
   "outputs": [],
   "source": [
    "#Criando um dicionário que mostra a frequencia que cada mapa é jogado\n",
    "soma_mapas = sum(contagem(lista_frq_mapas).values())\n",
    "dicionario_frequencias_mapas = {}\n",
    "for k, v in contagem(lista_frq_mapas).items():\n",
    "    frq = v*(100) / soma_mapas\n",
    "    dicionario_frequencias_mapas[k] = frq\n",
    "\n",
    "#Criando um dicionário que mostra a frequencia dos times em relação as partidas jogadas\n",
    "soma_times = sum(contagem(lista_times).values())\n",
    "dicionario_frequencias_times = {}\n",
    "for k, v in contagem(lista_times).items():\n",
    "    frq = v*(100) / soma_times\n",
    "    dicionario_frequencias_times[k] = frq\n",
    "\n",
    "#Código que cria um dicionário que mostra a porcentagem de vitória dos times a partir da soma de todas as partidas computadas.\n",
    "lista_mapa2 = []\n",
    "lista_mapa3 = []\n",
    "\n",
    "for i in data_novo.team_winner_map2:\n",
    "    if i == \"NotPlayed\":\n",
    "        pass\n",
    "    else:\n",
    "        lista_mapa2.append(i)\n",
    "\n",
    "for i in data_novo.team_winner_map3:\n",
    "    if i == \"NotPlayed\":\n",
    "        pass\n",
    "    else:\n",
    "        lista_mapa3.append(i)\n",
    "\n",
    "vencedores = list(data_novo.team_winner_map1) + lista_mapa2 + lista_mapa3\n",
    "soma_vencedores = sum(contagem(vencedores).values())\n",
    "dicionario_frequencias_vencedores = {}\n",
    "dicionario_vencedores_sorted = {}\n",
    "dicionario_times_sorted = {}\n",
    "for k, v in contagem(vencedores).items():\n",
    "    frq = v*(100) / soma_vencedores\n",
    "    dicionario_frequencias_vencedores[k] = frq\n",
    "\n",
    "#Transformando todos as keys em lowercase, para poder ordená-las melhor.\n",
    "dict_lower_vencedores = {}\n",
    "for k, v in dicionario_frequencias_vencedores.items():\n",
    "    key = k.lower()\n",
    "    dict_lower_vencedores[key] = dicionario_frequencias_vencedores[k]\n",
    "    \n",
    "dict_lower_times = {}\n",
    "for k, v in dicionario_frequencias_times.items():\n",
    "    key = k.lower()\n",
    "    dict_lower_times[key] = dicionario_frequencias_times[k]\n",
    "    \n",
    "dict_lower_mapas = {}\n",
    "for k, v in dicionario_frequencias_mapas.items():\n",
    "    key = k.lower()\n",
    "    dict_lower_mapas[key] = dicionario_frequencias_mapas[k]\n",
    "    \n",
    "#Organizando os dicionários em ordem alfabetica, facilitando sua visualização\n",
    "dict_lower_vencedores = dict((k, v) for k, v in dict_lower_vencedores.items()) \n",
    "for key in sorted(dict_lower_vencedores):\n",
    "    dicionario_vencedores_sorted[key] = dict_lower_vencedores[key]\n",
    "    \n",
    "dict_lower_times = dict((k, v) for k, v in dict_lower_times.items()) \n",
    "for key in sorted(dict_lower_times):\n",
    "    dicionario_times_sorted[key] = dict_lower_times[key]"
   ]
  },
  {
   "cell_type": "code",
   "execution_count": 77,
   "metadata": {},
   "outputs": [
    {
     "data": {
      "text/plain": [
       "{'astralis': 7.916666666666667,\n",
       " 'avangar': 2.5,\n",
       " 'big': 3.3333333333333335,\n",
       " 'cloud9': 4.583333333333333,\n",
       " 'complexity': 1.6666666666666667,\n",
       " 'cr4zy': 1.0416666666666667,\n",
       " 'dreameaters': 0.625,\n",
       " 'ence': 2.5,\n",
       " 'envy': 1.0416666666666667,\n",
       " 'faze': 6.458333333333333,\n",
       " 'flipsid3': 1.6666666666666667,\n",
       " 'fnatic': 4.791666666666667,\n",
       " 'g2': 5.625,\n",
       " 'gambit': 3.3333333333333335,\n",
       " 'godsent': 1.0416666666666667,\n",
       " 'hellraisers': 2.7083333333333335,\n",
       " 'immortals': 1.6666666666666667,\n",
       " 'liquid': 5.0,\n",
       " 'mibr': 3.5416666666666665,\n",
       " 'mousesports': 4.583333333333333,\n",
       " 'natus vincere': 6.875,\n",
       " 'nip': 2.9166666666666665,\n",
       " 'north': 3.75,\n",
       " 'nrg': 1.6666666666666667,\n",
       " 'optic': 0.8333333333333334,\n",
       " 'penta': 0.8333333333333334,\n",
       " 'quantum bellator fire': 1.0416666666666667,\n",
       " 'renegades': 2.5,\n",
       " 'sk': 3.5416666666666665,\n",
       " 'space soldiers': 1.0416666666666667,\n",
       " 'tyloo': 0.8333333333333334,\n",
       " 'vega squadron': 2.5,\n",
       " 'virtus.pro': 3.3333333333333335,\n",
       " 'vitality': 2.0833333333333335,\n",
       " 'winstrike': 0.625}"
      ]
     },
     "execution_count": 77,
     "metadata": {},
     "output_type": "execute_result"
    }
   ],
   "source": [
    "dicionario_times_sorted"
   ]
  },
  {
   "cell_type": "code",
   "execution_count": null,
   "metadata": {},
   "outputs": [],
   "source": []
  }
 ],
 "metadata": {
  "kernelspec": {
   "display_name": "Python 3",
   "language": "python",
   "name": "python3"
  },
  "language_info": {
   "codemirror_mode": {
    "name": "ipython",
    "version": 3
   },
   "file_extension": ".py",
   "mimetype": "text/x-python",
   "name": "python",
   "nbconvert_exporter": "python",
   "pygments_lexer": "ipython3",
   "version": "3.7.3"
  }
 },
 "nbformat": 4,
 "nbformat_minor": 2
}
